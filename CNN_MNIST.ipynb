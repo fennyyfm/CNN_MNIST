{
  "nbformat": 4,
  "nbformat_minor": 0,
  "metadata": {
    "colab": {
      "name": "CNN-MNIST.ipynb",
      "provenance": [],
      "collapsed_sections": [],
      "toc_visible": true
    },
    "kernelspec": {
      "name": "python3",
      "display_name": "Python 3"
    }
  },
  "cells": [
    {
      "cell_type": "markdown",
      "metadata": {
        "id": "Mlhu3ZXyk-4a"
      },
      "source": [
        "#Implementasi CNN untuk Data MNIST"
      ]
    },
    {
      "cell_type": "markdown",
      "metadata": {
        "id": "L_mzNCd3qJSG"
      },
      "source": [
        "##A. Import Librari yang dibutuhkan:"
      ]
    },
    {
      "cell_type": "markdown",
      "metadata": {
        "id": "oKnEerL5lJJM"
      },
      "source": [
        "1. Tensorflow\n",
        "2. cv2_imshow, sebagai pengganti cv2.imshow() di colab\n",
        "3. Numpy"
      ]
    },
    {
      "cell_type": "code",
      "metadata": {
        "id": "eB_JAGPqllEd"
      },
      "source": [
        "#import librari yang dibutuhkan\n",
        "import tensorflow as tf\n",
        "#gunakan cv2_imshow di colab sebagai pengganti cv2.imshow()\n",
        "from google.colab.patches import cv2_imshow\n",
        "import numpy as np"
      ],
      "execution_count": null,
      "outputs": []
    },
    {
      "cell_type": "markdown",
      "metadata": {
        "id": "AvmJD-GTlpIL"
      },
      "source": [
        "##B. Siapkan Data"
      ]
    },
    {
      "cell_type": "markdown",
      "metadata": {
        "id": "Hm14LQE9qNL2"
      },
      "source": [
        "Seperti pada sesi sebelumnya, pada sesi ini kita juga akan menggunakan data MNIST yang sudah tersedia di librari tensorflow.keras. Dataset terdiri dari citra karakter bilangan 0 s.d. 9."
      ]
    },
    {
      "cell_type": "code",
      "metadata": {
        "id": "pT1ioSDCmWGO"
      },
      "source": [
        "#Load Dataset MNIST\n",
        "mnist = tf.keras.datasets.mnist\n",
        "(x_train, y_train), (x_test, y_test) = mnist.load_data()\n",
        "\n",
        "#Lakukan Normalisasi\n",
        "x_train, x_test = x_train / 255.0, x_test / 255.0"
      ],
      "execution_count": null,
      "outputs": []
    },
    {
      "cell_type": "markdown",
      "metadata": {
        "id": "c6HzmJh9QJJ9"
      },
      "source": [
        "Kita akan bekerja dengan layer konvolusi. Pada tensorflow input untuk layer convolusi 2D harus berupa dimensi (batch, height, width, channel). Sedangkan data kita dimensinya adalah (batch, height, width), dimana batch menyatakan index data ke, dan height, width menyatakan ukuran gambar grayscale kita. Oleh karena itu, kita harus merubah dimensi tersebut dengan menggunakan fungsi reshape, sedemikian hingga dimensinya sesuai."
      ]
    },
    {
      "cell_type": "code",
      "metadata": {
        "id": "VcjQz6X-RFCW"
      },
      "source": [
        "x_train = x_train.reshape(x_train.shape[0], 28, 28, 1)\n",
        "x_test = x_test.reshape(x_test.shape[0], 28, 28, 1)"
      ],
      "execution_count": null,
      "outputs": []
    },
    {
      "cell_type": "markdown",
      "metadata": {
        "id": "adAfcVeeRQ-C"
      },
      "source": [
        "x_train.shape[0] menyatakan batch, dalam hal ini jumlah data kita, 28,28 menyatakan ukuran masing-masing citra input kita, dan 1 menyatakan channel pada citra kita, ingat grayscale image hanya memiliki satu nilai pada setiap koordinatnya."
      ]
    },
    {
      "cell_type": "markdown",
      "metadata": {
        "id": "4u3Jpj0Dq2y_"
      },
      "source": [
        "##C. Bangun Model"
      ]
    },
    {
      "cell_type": "markdown",
      "metadata": {
        "id": "HmfttZAqrCIo"
      },
      "source": [
        "Sekarang mari buat modelnya. Kita akan membuat model CNN yang terdiri dari:\n",
        "- Convolution: jml kerne: 32, ukuran kernel 3x3, fungsi aktivasi: relu\n",
        "- Maxpool: ukuran kernel 2x2\n",
        "- Flatten Layer: Mengubah input menjadi vektor utk input ke Fully Connected\n",
        "- Hidden Layer 1: Ukuran 128 nodes, fungsi aktivasi: relu\n",
        "- Output layer: Ukuran sesuai jml kelas: 10, fungsi aktivasi: softmax, \n",
        "  biasanya layer akhir klasifikasi menggunakan softmax, kenapa?"
      ]
    },
    {
      "cell_type": "code",
      "metadata": {
        "id": "xJp6jm6IrANL"
      },
      "source": [
        "model = tf.keras.models.Sequential([\n",
        "  tf.keras.layers.Conv2D(filters=32,kernel_size=(3,3),activation='relu', input_shape=(28,28,1)),\n",
        "  tf.keras.layers.MaxPool2D(pool_size=(2, 2)),\n",
        "  tf.keras.layers.Flatten(),\n",
        "  tf.keras.layers.Dense(128, activation='relu'),\n",
        "  tf.keras.layers.Dense(10, activation='softmax')\n",
        "])\n",
        "\n",
        "# Loss function yang digunakan\n",
        "loss_fn = tf.keras.losses.SparseCategoricalCrossentropy()\n",
        "\n",
        "#Compile model supaya siap digunakan\n",
        "model.compile(optimizer='adam',      \n",
        "              loss=loss_fn,           \n",
        "              metrics=['accuracy']) "
      ],
      "execution_count": null,
      "outputs": []
    },
    {
      "cell_type": "markdown",
      "metadata": {
        "id": "Wa3q2XCaRrPL"
      },
      "source": [
        "Untuk melihat bagaimana arsitektur model yang telah di-build, kita bisa menggunakna method summary()."
      ]
    },
    {
      "cell_type": "code",
      "metadata": {
        "id": "TaKEHSLrKtul",
        "colab": {
          "base_uri": "https://localhost:8080/",
          "height": 336
        },
        "outputId": "f30b4fd4-1352-416f-b794-fcb35a2ad921"
      },
      "source": [
        "model.summary()"
      ],
      "execution_count": null,
      "outputs": [
        {
          "output_type": "stream",
          "text": [
            "Model: \"sequential_1\"\n",
            "_________________________________________________________________\n",
            "Layer (type)                 Output Shape              Param #   \n",
            "=================================================================\n",
            "conv2d_1 (Conv2D)            (None, 26, 26, 32)        320       \n",
            "_________________________________________________________________\n",
            "max_pooling2d_1 (MaxPooling2 (None, 13, 13, 32)        0         \n",
            "_________________________________________________________________\n",
            "flatten_1 (Flatten)          (None, 5408)              0         \n",
            "_________________________________________________________________\n",
            "dense_2 (Dense)              (None, 128)               692352    \n",
            "_________________________________________________________________\n",
            "dense_3 (Dense)              (None, 10)                1290      \n",
            "=================================================================\n",
            "Total params: 693,962\n",
            "Trainable params: 693,962\n",
            "Non-trainable params: 0\n",
            "_________________________________________________________________\n"
          ],
          "name": "stdout"
        }
      ]
    },
    {
      "cell_type": "markdown",
      "metadata": {
        "id": "LtbYmRrAyWm5"
      },
      "source": [
        "##D. Lakukan Training"
      ]
    },
    {
      "cell_type": "markdown",
      "metadata": {
        "id": "ASmUOinPydev"
      },
      "source": [
        "Setelah semua siap, mari kita lakukan training dengan memanggil method fit(). "
      ]
    },
    {
      "cell_type": "code",
      "metadata": {
        "id": "zW0uqATzzkhs",
        "colab": {
          "base_uri": "https://localhost:8080/",
          "height": 390
        },
        "outputId": "8eebbfa9-1419-45b5-e9eb-9b1cb3e7e0f1"
      },
      "source": [
        "path = \"/content/drive/My Drive/Colab Notebooks/\"\n",
        "#Lalu buat fungsi callback\n",
        "#fungsi callback untuk menyimpan model jika val_acc meningkat dari val_Acc sebelumnya\n",
        "checkpoint = tf.keras.callbacks.ModelCheckpoint(path+'model-{epoch:02d}-{val_accuracy:.2f}.hdf5', monitor='val_accuracy', verbose=1, save_best_only=True, mode='max')\n",
        "#fungsi callback untuk menyimpan histori acc dan val-acc ke CSV\n",
        "csv_logger = tf.keras.callbacks.CSVLogger(path+\"log-hasil.csv\", append=True, separator=';')\n",
        "\n",
        "model.fit(x_train, y_train, \n",
        "          epochs=5,        \n",
        "          callbacks=[checkpoint,csv_logger],\n",
        "          validation_split=0.25)"
      ],
      "execution_count": null,
      "outputs": [
        {
          "output_type": "stream",
          "text": [
            "Epoch 1/5\n",
            "1404/1407 [============================>.] - ETA: 0s - loss: 0.1723 - accuracy: 0.9488\n",
            "Epoch 00001: val_accuracy improved from -inf to 0.97740, saving model to /content/drive/My Drive/Colab Notebooks/model-01-0.98.hdf5\n",
            "1407/1407 [==============================] - 26s 19ms/step - loss: 0.1721 - accuracy: 0.9488 - val_loss: 0.0765 - val_accuracy: 0.9774\n",
            "Epoch 2/5\n",
            "1406/1407 [============================>.] - ETA: 0s - loss: 0.0566 - accuracy: 0.9828\n",
            "Epoch 00002: val_accuracy improved from 0.97740 to 0.97800, saving model to /content/drive/My Drive/Colab Notebooks/model-02-0.98.hdf5\n",
            "1407/1407 [==============================] - 27s 19ms/step - loss: 0.0566 - accuracy: 0.9828 - val_loss: 0.0713 - val_accuracy: 0.9780\n",
            "Epoch 3/5\n",
            "1406/1407 [============================>.] - ETA: 0s - loss: 0.0371 - accuracy: 0.9892\n",
            "Epoch 00003: val_accuracy improved from 0.97800 to 0.97993, saving model to /content/drive/My Drive/Colab Notebooks/model-03-0.98.hdf5\n",
            "1407/1407 [==============================] - 26s 18ms/step - loss: 0.0371 - accuracy: 0.9892 - val_loss: 0.0686 - val_accuracy: 0.9799\n",
            "Epoch 4/5\n",
            "1406/1407 [============================>.] - ETA: 0s - loss: 0.0242 - accuracy: 0.9924\n",
            "Epoch 00004: val_accuracy improved from 0.97993 to 0.98347, saving model to /content/drive/My Drive/Colab Notebooks/model-04-0.98.hdf5\n",
            "1407/1407 [==============================] - 26s 18ms/step - loss: 0.0242 - accuracy: 0.9924 - val_loss: 0.0555 - val_accuracy: 0.9835\n",
            "Epoch 5/5\n",
            "1405/1407 [============================>.] - ETA: 0s - loss: 0.0168 - accuracy: 0.9942\n",
            "Epoch 00005: val_accuracy did not improve from 0.98347\n",
            "1407/1407 [==============================] - 26s 18ms/step - loss: 0.0167 - accuracy: 0.9942 - val_loss: 0.0606 - val_accuracy: 0.9825\n"
          ],
          "name": "stdout"
        },
        {
          "output_type": "execute_result",
          "data": {
            "text/plain": [
              "<tensorflow.python.keras.callbacks.History at 0x7f45e98eae10>"
            ]
          },
          "metadata": {
            "tags": []
          },
          "execution_count": 13
        }
      ]
    },
    {
      "cell_type": "markdown",
      "metadata": {
        "id": "c_fN8-ve1bCs"
      },
      "source": [
        "Selesai, silakan bereksplorasi dengan parameter model lainnya."
      ]
    },
    {
      "cell_type": "code",
      "metadata": {
        "id": "gkbCD63TVZBz",
        "colab": {
          "base_uri": "https://localhost:8080/",
          "height": 125
        },
        "outputId": "ba7a65c6-50bc-4ae3-84b8-e4eac79d16c3"
      },
      "source": [
        "from google.colab import drive\n",
        "drive.mount('/content/drive')"
      ],
      "execution_count": null,
      "outputs": [
        {
          "output_type": "stream",
          "text": [
            "Go to this URL in a browser: https://accounts.google.com/o/oauth2/auth?client_id=947318989803-6bn6qk8qdgf4n4g3pfee6491hc0brc4i.apps.googleusercontent.com&redirect_uri=urn%3aietf%3awg%3aoauth%3a2.0%3aoob&response_type=code&scope=email%20https%3a%2f%2fwww.googleapis.com%2fauth%2fdocs.test%20https%3a%2f%2fwww.googleapis.com%2fauth%2fdrive%20https%3a%2f%2fwww.googleapis.com%2fauth%2fdrive.photos.readonly%20https%3a%2f%2fwww.googleapis.com%2fauth%2fpeopleapi.readonly\n",
            "\n",
            "Enter your authorization code:\n",
            "··········\n",
            "Mounted at /content/drive\n"
          ],
          "name": "stdout"
        }
      ]
    }
  ]
}